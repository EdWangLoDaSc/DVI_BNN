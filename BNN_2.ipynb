{
  "nbformat": 4,
  "nbformat_minor": 0,
  "metadata": {
    "colab": {
      "name": "Untitled4.ipynb",
      "provenance": [],
      "mount_file_id": "https://github.com/EdWangLoDaSc/DVI_BNN/blob/main/BNN_1.ipynb",
      "authorship_tag": "ABX9TyP6Hmzw4D01bRfgmPVZxXcN",
      "include_colab_link": true
    },
    "kernelspec": {
      "name": "python3",
      "display_name": "Python 3"
    },
    "language_info": {
      "name": "python"
    }
  },
  "cells": [
    {
      "cell_type": "markdown",
      "metadata": {
        "id": "view-in-github",
        "colab_type": "text"
      },
      "source": [
        "<a href=\"https://colab.research.google.com/github/EdWangLoDaSc/DVI_BNN/blob/main/BNN_2.ipynb\" target=\"_parent\"><img src=\"https://colab.research.google.com/assets/colab-badge.svg\" alt=\"Open In Colab\"/></a>"
      ]
    },
    {
      "cell_type": "code",
      "execution_count": 3,
      "metadata": {
        "id": "4X22O2nQFEX6"
      },
      "outputs": [],
      "source": [
        "import sys\n",
        "sys.path.append('../../')\n",
        "import torch_ard as nn_ard\n",
        "from torch import nn\n",
        "import torch.nn.functional as F\n",
        "import torch\n",
        "\n",
        "class DenseModelARD(nn.Module):\n",
        "    def __init__(self, input_shape, output_shape, hidden_size=150, activation=None):\n",
        "        super(DenseModelARD, self).__init__()\n",
        "        self.l1 = nn_ard.LinearARD(input_shape, hidden_size)\n",
        "        self.l2 = nn_ard.LinearARD(hidden_size, output_shape)\n",
        "        self.activation = activation\n",
        "        self._init_weights()\n",
        "\n",
        "    def forward(self, input):\n",
        "        x = input.to(self.device)\n",
        "        x = self.l1(x)\n",
        "        x = nn.functional.tanh(x)\n",
        "        x = self.l2(x)\n",
        "        if self.activation: x = self.activation(x)\n",
        "        return x\n",
        "\n",
        "    def _init_weights(self):\n",
        "        for layer in self.children():\n",
        "            if hasattr(layer, 'weight'): nn.init.xavier_uniform(layer.weight, gain=nn.init.calculate_gain('relu'))\n",
        "\n",
        "    @property\n",
        "    def device(self):\n",
        "        return next(self.parameters()).device\n",
        "\n",
        "\n",
        "class DenseModel(nn.Module):\n",
        "    def __init__(self, input_shape, output_shape, hidden_size=150, activation=None):\n",
        "        super(DenseModel, self).__init__()\n",
        "        self.l1 = nn.Linear(input_shape, hidden_size)\n",
        "        self.l2 = nn.Linear(hidden_size, output_shape)\n",
        "        self.activation = activation\n",
        "        self._init_weights()\n",
        "\n",
        "    def forward(self, input):\n",
        "        x = input.to(self.device)\n",
        "        x = self.l1(x)\n",
        "        x = nn.functional.tanh(x)\n",
        "        x = self.l2(x)\n",
        "        if self.activation: x = self.activation(x)\n",
        "        return x\n",
        "\n",
        "    def _init_weights(self):\n",
        "        for layer in self.children():\n",
        "            if hasattr(layer, 'weight'): nn.init.xavier_uniform(layer.weight, gain=nn.init.calculate_gain('relu'))\n",
        "\n",
        "    @property\n",
        "    def device(self):\n",
        "        return next(self.parameters()).device\n",
        "\n",
        "class LeNet(nn.Module):\n",
        "    def __init__(self, input_shape, output_shape):\n",
        "        super(LeNet, self).__init__()\n",
        "        self.conv1 = nn.Conv2d(input_shape, 20, 5)\n",
        "        self.conv2 = nn.Conv2d(20, 50, 5)\n",
        "        self.l1 = nn.Linear(50*5*5, 500)\n",
        "        self.l2 = nn.Linear(500, output_shape)\n",
        "        self._init_weights()\n",
        "\n",
        "    def forward(self, x):\n",
        "        out = F.relu(self.conv1(x.to(self.device)))\n",
        "        out = F.max_pool2d(out, 2)\n",
        "        out = F.relu(self.conv2(out))\n",
        "        out = F.max_pool2d(out, 2)\n",
        "        out = out.view(out.shape[0], -1)\n",
        "        out = F.relu(self.l1(out))\n",
        "        return self.l2(out)\n",
        "        # return F.log_softmax(self.l2(out), dim=1)\n",
        "\n",
        "    def _init_weights(self):\n",
        "        for layer in self.children():\n",
        "            if hasattr(layer, 'weight'): nn.init.xavier_uniform(layer.weight, gain=nn.init.calculate_gain('relu'))\n",
        "\n",
        "    @property\n",
        "    def device(self):\n",
        "        return next(self.parameters()).device\n",
        "\n",
        "class LeNetARD(nn.Module):\n",
        "    def __init__(self, input_shape, output_shape):\n",
        "        super(LeNetARD, self).__init__()\n",
        "        self.conv1 = nn_ard.Conv2dARD(input_shape, 20, 5)\n",
        "        self.conv2 = nn_ard.Conv2dARD(20, 50, 5)\n",
        "        self.l1 = nn_ard.LinearARD(50*5*5, 500)\n",
        "        self.l2 = nn_ard.LinearARD(500, output_shape)\n",
        "        self._init_weights()\n",
        "\n",
        "    def forward(self, input):\n",
        "        out = F.relu(self.conv1(input.to(self.device)))\n",
        "        out = F.max_pool2d(out, 2)\n",
        "        out = F.relu(self.conv2(out))\n",
        "        out = F.max_pool2d(out, 2)\n",
        "        out = out.view(out.shape[0], -1)\n",
        "        out = F.relu(self.l1(out))\n",
        "        return self.l2(out)\n",
        "        # return F.log_softmax(self.l2(out), dim=1)\n",
        "\n",
        "    def _init_weights(self):\n",
        "        for layer in self.children():\n",
        "            if hasattr(layer, 'weight'): nn.init.xavier_uniform(layer.weight, gain=nn.init.calculate_gain('relu'))\n",
        "\n",
        "    @property\n",
        "    def device(self):\n",
        "        return next(self.parameters()).device"
      ]
    },
    {
      "cell_type": "code",
      "source": [
        "pip install git+https://github.com/HolyBayes/pytorch_ard"
      ],
      "metadata": {
        "id": "sH7nTPFyfdUp",
        "outputId": "9f13e16a-d812-4a16-ff51-ae88eda857ad",
        "colab": {
          "base_uri": "https://localhost:8080/"
        }
      },
      "execution_count": 2,
      "outputs": [
        {
          "output_type": "stream",
          "name": "stdout",
          "text": [
            "Looking in indexes: https://pypi.org/simple, https://us-python.pkg.dev/colab-wheels/public/simple/\n",
            "Collecting git+https://github.com/HolyBayes/pytorch_ard\n",
            "  Cloning https://github.com/HolyBayes/pytorch_ard to /tmp/pip-req-build-6_k60ns3\n",
            "  Running command git clone -q https://github.com/HolyBayes/pytorch_ard /tmp/pip-req-build-6_k60ns3\n",
            "Requirement already satisfied: torch>=1.1.0 in /usr/local/lib/python3.7/dist-packages (from pytorch-ard==0.2.4) (1.12.0+cu113)\n",
            "Requirement already satisfied: torchvision>=0.2.1 in /usr/local/lib/python3.7/dist-packages (from pytorch-ard==0.2.4) (0.13.0+cu113)\n",
            "Requirement already satisfied: scikit-learn>=0.19.2 in /usr/local/lib/python3.7/dist-packages (from pytorch-ard==0.2.4) (1.0.2)\n",
            "Requirement already satisfied: pandas in /usr/local/lib/python3.7/dist-packages (from pytorch-ard==0.2.4) (1.3.5)\n",
            "Requirement already satisfied: joblib>=0.11 in /usr/local/lib/python3.7/dist-packages (from scikit-learn>=0.19.2->pytorch-ard==0.2.4) (1.1.0)\n",
            "Requirement already satisfied: numpy>=1.14.6 in /usr/local/lib/python3.7/dist-packages (from scikit-learn>=0.19.2->pytorch-ard==0.2.4) (1.21.6)\n",
            "Requirement already satisfied: threadpoolctl>=2.0.0 in /usr/local/lib/python3.7/dist-packages (from scikit-learn>=0.19.2->pytorch-ard==0.2.4) (3.1.0)\n",
            "Requirement already satisfied: scipy>=1.1.0 in /usr/local/lib/python3.7/dist-packages (from scikit-learn>=0.19.2->pytorch-ard==0.2.4) (1.7.3)\n",
            "Requirement already satisfied: typing-extensions in /usr/local/lib/python3.7/dist-packages (from torch>=1.1.0->pytorch-ard==0.2.4) (4.1.1)\n",
            "Requirement already satisfied: pillow!=8.3.*,>=5.3.0 in /usr/local/lib/python3.7/dist-packages (from torchvision>=0.2.1->pytorch-ard==0.2.4) (7.1.2)\n",
            "Requirement already satisfied: requests in /usr/local/lib/python3.7/dist-packages (from torchvision>=0.2.1->pytorch-ard==0.2.4) (2.23.0)\n",
            "Requirement already satisfied: python-dateutil>=2.7.3 in /usr/local/lib/python3.7/dist-packages (from pandas->pytorch-ard==0.2.4) (2.8.2)\n",
            "Requirement already satisfied: pytz>=2017.3 in /usr/local/lib/python3.7/dist-packages (from pandas->pytorch-ard==0.2.4) (2022.1)\n",
            "Requirement already satisfied: six>=1.5 in /usr/local/lib/python3.7/dist-packages (from python-dateutil>=2.7.3->pandas->pytorch-ard==0.2.4) (1.15.0)\n",
            "Requirement already satisfied: idna<3,>=2.5 in /usr/local/lib/python3.7/dist-packages (from requests->torchvision>=0.2.1->pytorch-ard==0.2.4) (2.10)\n",
            "Requirement already satisfied: certifi>=2017.4.17 in /usr/local/lib/python3.7/dist-packages (from requests->torchvision>=0.2.1->pytorch-ard==0.2.4) (2022.6.15)\n",
            "Requirement already satisfied: urllib3!=1.25.0,!=1.25.1,<1.26,>=1.21.1 in /usr/local/lib/python3.7/dist-packages (from requests->torchvision>=0.2.1->pytorch-ard==0.2.4) (1.24.3)\n",
            "Requirement already satisfied: chardet<4,>=3.0.2 in /usr/local/lib/python3.7/dist-packages (from requests->torchvision>=0.2.1->pytorch-ard==0.2.4) (3.0.4)\n",
            "Building wheels for collected packages: pytorch-ard\n",
            "  Building wheel for pytorch-ard (setup.py) ... \u001b[?25l\u001b[?25hdone\n",
            "  Created wheel for pytorch-ard: filename=pytorch_ard-0.2.4-py3-none-any.whl size=6906 sha256=6539fab82656faac26197be1030f07f1e01f95ee52c3201abf99d07e5518077c\n",
            "  Stored in directory: /tmp/pip-ephem-wheel-cache-gcv3mfb9/wheels/99/ea/74/5f940292a2d1db57679d7b54e09a4b344830b9ec141a345dca\n",
            "Successfully built pytorch-ard\n",
            "Installing collected packages: pytorch-ard\n",
            "Successfully installed pytorch-ard-0.2.4\n"
          ]
        }
      ]
    },
    {
      "cell_type": "code",
      "source": [
        "df = pd.read_csv('/content/drive/MyDrive/Untitled Folder/3_256_datsets.csv')\n",
        "X, y = df.drop('pChemal', 1), df['pChemal']\n",
        "print(X)"
      ],
      "metadata": {
        "id": "AJyAbFUJgmMk",
        "outputId": "748c05b0-8404-43be-ac0f-02934aa29c21",
        "colab": {
          "base_uri": "https://localhost:8080/"
        }
      },
      "execution_count": 20,
      "outputs": [
        {
          "output_type": "stream",
          "name": "stdout",
          "text": [
            "     0pChEMBL  1pChEMBL  2pChEMBL  3pChEMBL  4pChEMBL  5pChEMBL  6pChEMBL  \\\n",
            "0           0         1         1         0         0         1         0   \n",
            "1           0         1         1         1         1         1         0   \n",
            "2           1         1         1         1         1         1         0   \n",
            "3           0         0         1         0         0         0         0   \n",
            "4           0         1         0         0         0         1         0   \n",
            "..        ...       ...       ...       ...       ...       ...       ...   \n",
            "926         0         0         0         0         0         0         0   \n",
            "927         1         0         1         0         1         0         1   \n",
            "928         1         0         1         0         0         0         1   \n",
            "929         0         0         0         0         0         0         0   \n",
            "930         1         0         0         0         0         0         0   \n",
            "\n",
            "     7pChEMBL  8pChEMBL  9pChEMBL  ...  246pChEMBL  247pChEMBL  248pChEMBL  \\\n",
            "0           0         0         0  ...           1           0           0   \n",
            "1           0         1         1  ...           1           0           0   \n",
            "2           0         1         1  ...           1           0           0   \n",
            "3           0         0         0  ...           1           0           0   \n",
            "4           0         1         0  ...           1           0           0   \n",
            "..        ...       ...       ...  ...         ...         ...         ...   \n",
            "926         0         0         0  ...           0           0           0   \n",
            "927         0         0         1  ...           0           1           0   \n",
            "928         0         0         0  ...           0           1           0   \n",
            "929         0         0         0  ...           1           0           1   \n",
            "930         1         0         0  ...           0           0           0   \n",
            "\n",
            "     249pChEMBL  250pChEMBL  251pChEMBL  252pChEMBL  253pChEMBL  254pChEMBL  \\\n",
            "0             0           1           0           1           0           0   \n",
            "1             0           1           1           0           0           1   \n",
            "2             1           1           1           0           0           1   \n",
            "3             0           0           0           0           0           0   \n",
            "4             0           0           1           0           0           0   \n",
            "..          ...         ...         ...         ...         ...         ...   \n",
            "926           0           0           0           0           0           0   \n",
            "927           0           0           1           0           1           0   \n",
            "928           0           0           1           0           1           0   \n",
            "929           0           0           0           0           0           0   \n",
            "930           0           0           0           0           0           0   \n",
            "\n",
            "     255pChEMBL  \n",
            "0             0  \n",
            "1             1  \n",
            "2             0  \n",
            "3             0  \n",
            "4             1  \n",
            "..          ...  \n",
            "926           0  \n",
            "927           1  \n",
            "928           0  \n",
            "929           0  \n",
            "930           0  \n",
            "\n",
            "[931 rows x 256 columns]\n"
          ]
        },
        {
          "output_type": "stream",
          "name": "stderr",
          "text": [
            "/usr/local/lib/python3.7/dist-packages/ipykernel_launcher.py:2: FutureWarning: In a future version of pandas all arguments of DataFrame.drop except for the argument 'labels' will be keyword-only\n",
            "  \n"
          ]
        }
      ]
    },
    {
      "cell_type": "code",
      "source": [
        "import sys\n",
        "sys.path.append('../')\n",
        "from sklearn.model_selection import train_test_split\n",
        "import pandas as pd\n",
        "from torch import nn\n",
        "import torch\n",
        "import numpy as np\n",
        "from tqdm import tqdm, trange\n",
        "from sklearn.datasets import load_boston\n",
        "df = pd.read_csv('/content/drive/MyDrive/Untitled Folder/3_256_datsets.csv')\n",
        "X, y = df.drop('pChemal', 1), df['pChemal']\n",
        "\n",
        "\n",
        "train_X, test_X, train_y, test_y = train_test_split(X, y, train_size=0.8)\n",
        "\n",
        "device = torch.device(\"cuda\" if torch.cuda.is_available() else \"cpu\")\n",
        "train_X, test_X, train_y, test_y = \\\n",
        "    [torch.from_numpy(np.array(x)).float().to(device)\n",
        "     for x in [train_X, test_X, train_y, test_y]]\n",
        "\n",
        "model = DenseModel(input_shape=train_X.shape[1], output_shape=1,\n",
        "                   activation=nn.functional.relu).to(device)\n",
        "opt = torch.optim.Adam(model.parameters(), lr=1e-2)\n",
        "scheduler = torch.optim.lr_scheduler.ReduceLROnPlateau(opt, 'min')\n",
        "criterion = nn.MSELoss()\n",
        "\n",
        "n_epoches = 100000\n",
        "debug_frequency = 100\n",
        "\n",
        "pbar = trange(n_epoches, leave=True, position=0)\n",
        "for epoch in pbar:\n",
        "    opt.zero_grad()\n",
        "    preds = model(train_X).squeeze()\n",
        "    loss = criterion(preds, train_y)\n",
        "    loss.backward()\n",
        "    # scheduler.step(loss)\n",
        "    opt.step()\n",
        "    loss_train = float(criterion(preds, train_y).detach().cpu().numpy())\n",
        "    preds = model(test_X).squeeze()\n",
        "    loss_test = float(criterion(preds, test_y).detach().cpu().numpy())\n",
        "    pbar.set_description('MSE (train): %.3f\\tMSE (test): %.3f' %\n",
        "                         (loss_train, loss_test))\n",
        "    pbar.update()"
      ],
      "metadata": {
        "id": "S6EXcrGLHZe3",
        "outputId": "66f02971-1521-49a1-919e-bbf5ea485850",
        "colab": {
          "base_uri": "https://localhost:8080/"
        }
      },
      "execution_count": 40,
      "outputs": [
        {
          "output_type": "stream",
          "name": "stderr",
          "text": [
            "/usr/local/lib/python3.7/dist-packages/ipykernel_launcher.py:11: FutureWarning: In a future version of pandas all arguments of DataFrame.drop except for the argument 'labels' will be keyword-only\n",
            "  # This is added back by InteractiveShellApp.init_path()\n",
            "/usr/local/lib/python3.7/dist-packages/ipykernel_launcher.py:51: UserWarning: nn.init.xavier_uniform is now deprecated in favor of nn.init.xavier_uniform_.\n",
            "  0%|          | 0/100000 [00:00<?, ?it/s]/usr/local/lib/python3.7/dist-packages/torch/nn/functional.py:1949: UserWarning: nn.functional.tanh is deprecated. Use torch.tanh instead.\n",
            "  warnings.warn(\"nn.functional.tanh is deprecated. Use torch.tanh instead.\")\n",
            "MSE (train): 0.003\tMSE (test): 0.433: 100%|██████████| 100000/100000 [18:12<00:00, 91.53it/s]\n"
          ]
        }
      ]
    },
    {
      "cell_type": "code",
      "source": [
        "import os\n",
        "path=\"/content/drive/MyDrive\"\n",
        "os.chdir(path)\n",
        "os.listdir(path)"
      ],
      "metadata": {
        "id": "2YVsC4xpkBHR",
        "outputId": "199d6fc1-a258-41ce-fa58-7aea57f6b480",
        "colab": {
          "base_uri": "https://localhost:8080/"
        }
      },
      "execution_count": 38,
      "outputs": [
        {
          "output_type": "execute_result",
          "data": {
            "text/plain": [
              "['Colab Notebooks',\n",
              " 'Untitled Folder',\n",
              " '.ipynb_checkpoints',\n",
              " 'deterministic-variational-inference-master',\n",
              " 'pytorch_ard-master',\n",
              " 'models.py',\n",
              " '__pycache__',\n",
              " 'DVI_BNN-main.zip']"
            ]
          },
          "metadata": {},
          "execution_count": 38
        }
      ]
    },
    {
      "cell_type": "code",
      "source": [
        "\n",
        "from google.colab import drive\n",
        "drive.mount('/content/drive')"
      ],
      "metadata": {
        "id": "dXyzNmz1lLYc",
        "outputId": "3edcfccf-a983-4179-e45c-e181ec1a5da6",
        "colab": {
          "base_uri": "https://localhost:8080/"
        }
      },
      "execution_count": 31,
      "outputs": [
        {
          "output_type": "stream",
          "name": "stdout",
          "text": [
            "Drive already mounted at /content/drive; to attempt to forcibly remount, call drive.mount(\"/content/drive\", force_remount=True).\n"
          ]
        }
      ]
    },
    {
      "cell_type": "code",
      "source": [
        "import sys\n",
        "sys.path.append('../')\n",
        "from models import DenseModelARD\n",
        "from sklearn.datasets import load_boston\n",
        "from sklearn.model_selection import train_test_split\n",
        "import pandas as pd\n",
        "from torch import nn\n",
        "import torch.nn.functional as F\n",
        "import torch\n",
        "import numpy as np\n",
        "from torch_ard import get_ard_reg, get_dropped_params_ratio, ELBOLoss\n",
        "from tqdm import trange, tqdm\n",
        "\n",
        "df = pd.read_csv('/content/drive/MyDrive/Untitled Folder/3_256_datsets.csv')\n",
        "X, y = df.drop('pChemal', 1), df['pChemal']\n",
        "\n",
        "train_X, test_X, train_y, test_y = train_test_split(X, y, train_size=0.8)\n",
        "\n",
        "device = torch.device(\"cuda\" if torch.cuda.is_available() else \"cpu\")\n",
        "# device = torch.device('cpu')\n",
        "train_X, test_X, train_y, test_y = \\\n",
        "    [torch.from_numpy(np.array(x)).float().to(device)\n",
        "     for x in [train_X, test_X, train_y, test_y]]\n",
        "\n",
        "model = DenseModelARD(input_shape=train_X.shape[1], output_shape=1,\n",
        "                      activation=nn.functional.relu).to(device)\n",
        "opt = torch.optim.Adam(model.parameters(), lr=1e-3)\n",
        "scheduler = torch.optim.lr_scheduler.ReduceLROnPlateau(opt, 'min')\n",
        "criterion = ELBOLoss(model, F.mse_loss).to(device)\n",
        "\n",
        "n_epoches = 100000\n",
        "debug_frequency = 100\n",
        "def get_kl_weight(epoch): \n",
        "  return min(1, 2 * epoch / n_epoches)\n",
        "\n",
        "\n",
        "pbar = trange(n_epoches, leave=True, position=0)\n",
        "for epoch in pbar:\n",
        "    kl_weight = get_kl_weight(epoch)\n",
        "    opt.zero_grad()\n",
        "    preds = model(train_X).squeeze()\n",
        "    loss = criterion(preds, train_y, 1, kl_weight)\n",
        "    loss.backward()\n",
        "    opt.step()\n",
        "    loss_train = float(\n",
        "        criterion(preds, train_y, 1, 0).detach().cpu().numpy())\n",
        "    preds = model(test_X).squeeze()\n",
        "    loss_test = float(\n",
        "        criterion(preds, test_y, 1, 0).detach().cpu().numpy())\n",
        "    pbar.set_description('MSE (train): %.3f\\tMSE (test): %.3f\\tReg: %.3f\\tDropout rate: %f%%' % (\n",
        "        loss_train, loss_test, get_ard_reg(model).item(), 100 * get_dropped_params_ratio(model)))\n",
        "    pbar.update()\n"
      ],
      "metadata": {
        "id": "H6Bc3kjyH8Mz",
        "outputId": "6b92f1ca-b146-4856-b5ea-49c71e8e4b6c",
        "colab": {
          "base_uri": "https://localhost:8080/",
          "height": 373
        }
      },
      "execution_count": 39,
      "outputs": [
        {
          "output_type": "error",
          "ename": "ImportError",
          "evalue": "ignored",
          "traceback": [
            "\u001b[0;31m---------------------------------------------------------------------------\u001b[0m",
            "\u001b[0;31mImportError\u001b[0m                               Traceback (most recent call last)",
            "\u001b[0;32m<ipython-input-39-ed7bef4cef3f>\u001b[0m in \u001b[0;36m<module>\u001b[0;34m()\u001b[0m\n\u001b[1;32m      1\u001b[0m \u001b[0;32mimport\u001b[0m \u001b[0msys\u001b[0m\u001b[0;34m\u001b[0m\u001b[0;34m\u001b[0m\u001b[0m\n\u001b[1;32m      2\u001b[0m \u001b[0msys\u001b[0m\u001b[0;34m.\u001b[0m\u001b[0mpath\u001b[0m\u001b[0;34m.\u001b[0m\u001b[0mappend\u001b[0m\u001b[0;34m(\u001b[0m\u001b[0;34m'../'\u001b[0m\u001b[0;34m)\u001b[0m\u001b[0;34m\u001b[0m\u001b[0;34m\u001b[0m\u001b[0m\n\u001b[0;32m----> 3\u001b[0;31m \u001b[0;32mfrom\u001b[0m \u001b[0mmodels\u001b[0m \u001b[0;32mimport\u001b[0m \u001b[0mDenseModelARD\u001b[0m\u001b[0;34m\u001b[0m\u001b[0;34m\u001b[0m\u001b[0m\n\u001b[0m\u001b[1;32m      4\u001b[0m \u001b[0;32mfrom\u001b[0m \u001b[0msklearn\u001b[0m\u001b[0;34m.\u001b[0m\u001b[0mdatasets\u001b[0m \u001b[0;32mimport\u001b[0m \u001b[0mload_boston\u001b[0m\u001b[0;34m\u001b[0m\u001b[0;34m\u001b[0m\u001b[0m\n\u001b[1;32m      5\u001b[0m \u001b[0;32mfrom\u001b[0m \u001b[0msklearn\u001b[0m\u001b[0;34m.\u001b[0m\u001b[0mmodel_selection\u001b[0m \u001b[0;32mimport\u001b[0m \u001b[0mtrain_test_split\u001b[0m\u001b[0;34m\u001b[0m\u001b[0;34m\u001b[0m\u001b[0m\n",
            "\u001b[0;31mImportError\u001b[0m: cannot import name 'DenseModelARD' from 'models' (/content/drive/MyDrive/models.py)",
            "",
            "\u001b[0;31m---------------------------------------------------------------------------\u001b[0;32m\nNOTE: If your import is failing due to a missing package, you can\nmanually install dependencies using either !pip or !apt.\n\nTo view examples of installing some common dependencies, click the\n\"Open Examples\" button below.\n\u001b[0;31m---------------------------------------------------------------------------\u001b[0m\n"
          ],
          "errorDetails": {
            "actions": [
              {
                "action": "open_url",
                "actionText": "Open Examples",
                "url": "/notebooks/snippets/importing_libraries.ipynb"
              }
            ]
          }
        }
      ]
    }
  ]
}