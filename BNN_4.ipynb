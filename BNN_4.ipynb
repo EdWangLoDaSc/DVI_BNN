{
  "nbformat": 4,
  "nbformat_minor": 0,
  "metadata": {
    "colab": {
      "name": "Untitled4.ipynb",
      "provenance": [],
      "mount_file_id": "https://github.com/EdWangLoDaSc/DVI_BNN/blob/main/BNN_2.ipynb",
      "authorship_tag": "ABX9TyOsUulniqgSv6kquKSjs894",
      "include_colab_link": true
    },
    "kernelspec": {
      "name": "python3",
      "display_name": "Python 3"
    },
    "language_info": {
      "name": "python"
    }
  },
  "cells": [
    {
      "cell_type": "markdown",
      "metadata": {
        "id": "view-in-github",
        "colab_type": "text"
      },
      "source": [
        "<a href=\"https://colab.research.google.com/github/EdWangLoDaSc/DVI_BNN/blob/main/BNN_4.ipynb\" target=\"_parent\"><img src=\"https://colab.research.google.com/assets/colab-badge.svg\" alt=\"Open In Colab\"/></a>"
      ]
    },
    {
      "cell_type": "code",
      "source": [
        "\n",
        "from google.colab import drive\n",
        "drive.mount('/content/drive')"
      ],
      "metadata": {
        "id": "dXyzNmz1lLYc",
        "outputId": "b8fa74ae-3467-4e07-e277-13b352de4653",
        "colab": {
          "base_uri": "https://localhost:8080/"
        }
      },
      "execution_count": 14,
      "outputs": [
        {
          "output_type": "stream",
          "name": "stdout",
          "text": [
            "Drive already mounted at /content/drive; to attempt to forcibly remount, call drive.mount(\"/content/drive\", force_remount=True).\n"
          ]
        }
      ]
    },
    {
      "cell_type": "code",
      "source": [
        "import os\n",
        "path=\"/content/drive/MyDrive\"\n",
        "os.chdir(path)\n",
        "os.listdir(path)"
      ],
      "metadata": {
        "id": "5oxFBG2GoZzm",
        "outputId": "287bae74-caad-403c-b5d4-85593913161f",
        "colab": {
          "base_uri": "https://localhost:8080/"
        }
      },
      "execution_count": 15,
      "outputs": [
        {
          "output_type": "execute_result",
          "data": {
            "text/plain": [
              "['Colab Notebooks',\n",
              " 'Untitled Folder',\n",
              " '.ipynb_checkpoints',\n",
              " 'deterministic-variational-inference-master',\n",
              " 'pytorch_ard-master',\n",
              " '__pycache__',\n",
              " 'DVI_BNN-main.zip',\n",
              " 'models.py',\n",
              " 'torch_ard.py']"
            ]
          },
          "metadata": {},
          "execution_count": 15
        }
      ]
    },
    {
      "cell_type": "code",
      "execution_count": 12,
      "metadata": {
        "id": "4X22O2nQFEX6"
      },
      "outputs": [],
      "source": [
        "import sys\n",
        "sys.path.append('../../')\n",
        "import torch_ard as nn_ard\n",
        "from torch import nn\n",
        "import torch.nn.functional as F\n",
        "import torch\n",
        "\n",
        "class DenseModelARD(nn.Module):\n",
        "    def __init__(self, input_shape, output_shape, hidden_size=150, activation=None):\n",
        "        super(DenseModelARD, self).__init__()\n",
        "        self.l1 = nn_ard.LinearARD(input_shape, hidden_size)\n",
        "        self.l2 = nn_ard.LinearARD(hidden_size, output_shape)\n",
        "        self.activation = activation\n",
        "        self._init_weights()\n",
        "\n",
        "    def forward(self, input):\n",
        "        x = input.to(self.device)\n",
        "        x = self.l1(x)\n",
        "        x = nn.functional.tanh(x)\n",
        "        x = self.l2(x)\n",
        "        if self.activation: x = self.activation(x)\n",
        "        return x\n",
        "\n",
        "    def _init_weights(self):\n",
        "        for layer in self.children():\n",
        "            if hasattr(layer, 'weight'): nn.init.xavier_uniform(layer.weight, gain=nn.init.calculate_gain('relu'))\n",
        "\n",
        "    @property\n",
        "    def device(self):\n",
        "        return next(self.parameters()).device\n",
        "\n",
        "\n",
        "class DenseModel(nn.Module):\n",
        "    def __init__(self, input_shape, output_shape, hidden_size=150, activation=None):\n",
        "        super(DenseModel, self).__init__()\n",
        "        self.l1 = nn.Linear(input_shape, hidden_size)\n",
        "        self.l2 = nn.Linear(hidden_size, output_shape)\n",
        "        self.activation = activation\n",
        "        self._init_weights()\n",
        "\n",
        "    def forward(self, input):\n",
        "        x = input.to(self.device)\n",
        "        x = self.l1(x)\n",
        "        x = nn.functional.tanh(x)\n",
        "        x = self.l2(x)\n",
        "        if self.activation: x = self.activation(x)\n",
        "        return x\n",
        "\n",
        "    def _init_weights(self):\n",
        "        for layer in self.children():\n",
        "            if hasattr(layer, 'weight'): nn.init.xavier_uniform(layer.weight, gain=nn.init.calculate_gain('relu'))\n",
        "\n",
        "    @property\n",
        "    def device(self):\n",
        "        return next(self.parameters()).device\n",
        "\n",
        "class LeNet(nn.Module):\n",
        "    def __init__(self, input_shape, output_shape):\n",
        "        super(LeNet, self).__init__()\n",
        "        self.conv1 = nn.Conv2d(input_shape, 20, 5)\n",
        "        self.conv2 = nn.Conv2d(20, 50, 5)\n",
        "        self.l1 = nn.Linear(50*5*5, 500)\n",
        "        self.l2 = nn.Linear(500, output_shape)\n",
        "        self._init_weights()\n",
        "\n",
        "    def forward(self, x):\n",
        "        out = F.relu(self.conv1(x.to(self.device)))\n",
        "        out = F.max_pool2d(out, 2)\n",
        "        out = F.relu(self.conv2(out))\n",
        "        out = F.max_pool2d(out, 2)\n",
        "        out = out.view(out.shape[0], -1)\n",
        "        out = F.relu(self.l1(out))\n",
        "        return self.l2(out)\n",
        "        # return F.log_softmax(self.l2(out), dim=1)\n",
        "\n",
        "    def _init_weights(self):\n",
        "        for layer in self.children():\n",
        "            if hasattr(layer, 'weight'): nn.init.xavier_uniform(layer.weight, gain=nn.init.calculate_gain('relu'))\n",
        "\n",
        "    @property\n",
        "    def device(self):\n",
        "        return next(self.parameters()).device\n",
        "\n",
        "class LeNetARD(nn.Module):\n",
        "    def __init__(self, input_shape, output_shape):\n",
        "        super(LeNetARD, self).__init__()\n",
        "        self.conv1 = nn_ard.Conv2dARD(input_shape, 20, 5)\n",
        "        self.conv2 = nn_ard.Conv2dARD(20, 50, 5)\n",
        "        self.l1 = nn_ard.LinearARD(50*5*5, 500)\n",
        "        self.l2 = nn_ard.LinearARD(500, output_shape)\n",
        "        self._init_weights()\n",
        "\n",
        "    def forward(self, input):\n",
        "        out = F.relu(self.conv1(input.to(self.device)))\n",
        "        out = F.max_pool2d(out, 2)\n",
        "        out = F.relu(self.conv2(out))\n",
        "        out = F.max_pool2d(out, 2)\n",
        "        out = out.view(out.shape[0], -1)\n",
        "        out = F.relu(self.l1(out))\n",
        "        return self.l2(out)\n",
        "        # return F.log_softmax(self.l2(out), dim=1)\n",
        "\n",
        "    def _init_weights(self):\n",
        "        for layer in self.children():\n",
        "            if hasattr(layer, 'weight'): nn.init.xavier_uniform(layer.weight, gain=nn.init.calculate_gain('relu'))\n",
        "\n",
        "    @property\n",
        "    def device(self):\n",
        "        return next(self.parameters()).device"
      ]
    },
    {
      "cell_type": "code",
      "source": [
        "import sys\n",
        "sys.path.append('../')\n",
        "from sklearn.model_selection import train_test_split\n",
        "import pandas as pd\n",
        "from torch import nn\n",
        "import torch\n",
        "import numpy as np\n",
        "from tqdm import tqdm, trange\n",
        "from sklearn.datasets import load_boston\n",
        "df = pd.read_csv('/content/drive/MyDrive/Untitled Folder/3_256_datsets.csv')\n",
        "X, y = df.drop('pChemal', 1), df['pChemal']\n",
        "\n",
        "\n",
        "train_X, test_X, train_y, test_y = train_test_split(X, y, train_size=0.8)\n",
        "\n",
        "device = torch.device(\"cuda\" if torch.cuda.is_available() else \"cpu\")\n",
        "train_X, test_X, train_y, test_y = \\\n",
        "    [torch.from_numpy(np.array(x)).float().to(device)\n",
        "     for x in [train_X, test_X, train_y, test_y]]\n",
        "\n",
        "model = DenseModel(input_shape=train_X.shape[1], output_shape=1,\n",
        "                   activation=nn.functional.relu).to(device)\n",
        "opt = torch.optim.Adam(model.parameters(), lr=1e-2)\n",
        "scheduler = torch.optim.lr_scheduler.ReduceLROnPlateau(opt, 'min')\n",
        "criterion = nn.MSELoss()\n",
        "\n",
        "n_epoches = 100000\n",
        "debug_frequency = 100\n",
        "\n",
        "pbar = trange(n_epoches, leave=True, position=0)\n",
        "for epoch in pbar:\n",
        "    opt.zero_grad()\n",
        "    preds = model(train_X).squeeze()\n",
        "    loss = criterion(preds, train_y)\n",
        "    loss.backward()\n",
        "    # scheduler.step(loss)\n",
        "    opt.step()\n",
        "    loss_train = float(criterion(preds, train_y).detach().cpu().numpy())\n",
        "    preds = model(test_X).squeeze()\n",
        "    loss_test = float(criterion(preds, test_y).detach().cpu().numpy())\n",
        "    pbar.set_description('MSE (train): %.3f\\tMSE (test): %.3f' %\n",
        "                         (loss_train, loss_test))\n",
        "    pbar.update()"
      ],
      "metadata": {
        "id": "S6EXcrGLHZe3",
        "outputId": "8d9d9a93-5eb3-414b-c148-beac9d6adc3e",
        "colab": {
          "base_uri": "https://localhost:8080/",
          "height": 522
        }
      },
      "execution_count": 6,
      "outputs": [
        {
          "output_type": "stream",
          "name": "stderr",
          "text": [
            "/usr/local/lib/python3.7/dist-packages/ipykernel_launcher.py:11: FutureWarning: In a future version of pandas all arguments of DataFrame.drop except for the argument 'labels' will be keyword-only\n",
            "  # This is added back by InteractiveShellApp.init_path()\n",
            "/usr/local/lib/python3.7/dist-packages/ipykernel_launcher.py:51: UserWarning: nn.init.xavier_uniform is now deprecated in favor of nn.init.xavier_uniform_.\n",
            "  0%|          | 0/100000 [00:00<?, ?it/s]/usr/local/lib/python3.7/dist-packages/torch/nn/functional.py:1949: UserWarning: nn.functional.tanh is deprecated. Use torch.tanh instead.\n",
            "  warnings.warn(\"nn.functional.tanh is deprecated. Use torch.tanh instead.\")\n",
            "MSE (train): 0.004\tMSE (test): 0.533:   1%|          | 535/100000 [00:07<22:28, 73.76it/s]\n"
          ]
        },
        {
          "output_type": "error",
          "ename": "KeyboardInterrupt",
          "evalue": "ignored",
          "traceback": [
            "\u001b[0;31m---------------------------------------------------------------------------\u001b[0m",
            "\u001b[0;31mKeyboardInterrupt\u001b[0m                         Traceback (most recent call last)",
            "\u001b[0;32m<ipython-input-6-4fe41111334f>\u001b[0m in \u001b[0;36m<module>\u001b[0;34m()\u001b[0m\n\u001b[1;32m     32\u001b[0m     \u001b[0mpreds\u001b[0m \u001b[0;34m=\u001b[0m \u001b[0mmodel\u001b[0m\u001b[0;34m(\u001b[0m\u001b[0mtrain_X\u001b[0m\u001b[0;34m)\u001b[0m\u001b[0;34m.\u001b[0m\u001b[0msqueeze\u001b[0m\u001b[0;34m(\u001b[0m\u001b[0;34m)\u001b[0m\u001b[0;34m\u001b[0m\u001b[0;34m\u001b[0m\u001b[0m\n\u001b[1;32m     33\u001b[0m     \u001b[0mloss\u001b[0m \u001b[0;34m=\u001b[0m \u001b[0mcriterion\u001b[0m\u001b[0;34m(\u001b[0m\u001b[0mpreds\u001b[0m\u001b[0;34m,\u001b[0m \u001b[0mtrain_y\u001b[0m\u001b[0;34m)\u001b[0m\u001b[0;34m\u001b[0m\u001b[0;34m\u001b[0m\u001b[0m\n\u001b[0;32m---> 34\u001b[0;31m     \u001b[0mloss\u001b[0m\u001b[0;34m.\u001b[0m\u001b[0mbackward\u001b[0m\u001b[0;34m(\u001b[0m\u001b[0;34m)\u001b[0m\u001b[0;34m\u001b[0m\u001b[0;34m\u001b[0m\u001b[0m\n\u001b[0m\u001b[1;32m     35\u001b[0m     \u001b[0;31m# scheduler.step(loss)\u001b[0m\u001b[0;34m\u001b[0m\u001b[0;34m\u001b[0m\u001b[0;34m\u001b[0m\u001b[0m\n\u001b[1;32m     36\u001b[0m     \u001b[0mopt\u001b[0m\u001b[0;34m.\u001b[0m\u001b[0mstep\u001b[0m\u001b[0;34m(\u001b[0m\u001b[0;34m)\u001b[0m\u001b[0;34m\u001b[0m\u001b[0;34m\u001b[0m\u001b[0m\n",
            "\u001b[0;32m/usr/local/lib/python3.7/dist-packages/torch/_tensor.py\u001b[0m in \u001b[0;36mbackward\u001b[0;34m(self, gradient, retain_graph, create_graph, inputs)\u001b[0m\n\u001b[1;32m    394\u001b[0m                 \u001b[0mcreate_graph\u001b[0m\u001b[0;34m=\u001b[0m\u001b[0mcreate_graph\u001b[0m\u001b[0;34m,\u001b[0m\u001b[0;34m\u001b[0m\u001b[0;34m\u001b[0m\u001b[0m\n\u001b[1;32m    395\u001b[0m                 inputs=inputs)\n\u001b[0;32m--> 396\u001b[0;31m         \u001b[0mtorch\u001b[0m\u001b[0;34m.\u001b[0m\u001b[0mautograd\u001b[0m\u001b[0;34m.\u001b[0m\u001b[0mbackward\u001b[0m\u001b[0;34m(\u001b[0m\u001b[0mself\u001b[0m\u001b[0;34m,\u001b[0m \u001b[0mgradient\u001b[0m\u001b[0;34m,\u001b[0m \u001b[0mretain_graph\u001b[0m\u001b[0;34m,\u001b[0m \u001b[0mcreate_graph\u001b[0m\u001b[0;34m,\u001b[0m \u001b[0minputs\u001b[0m\u001b[0;34m=\u001b[0m\u001b[0minputs\u001b[0m\u001b[0;34m)\u001b[0m\u001b[0;34m\u001b[0m\u001b[0;34m\u001b[0m\u001b[0m\n\u001b[0m\u001b[1;32m    397\u001b[0m \u001b[0;34m\u001b[0m\u001b[0m\n\u001b[1;32m    398\u001b[0m     \u001b[0;32mdef\u001b[0m \u001b[0mregister_hook\u001b[0m\u001b[0;34m(\u001b[0m\u001b[0mself\u001b[0m\u001b[0;34m,\u001b[0m \u001b[0mhook\u001b[0m\u001b[0;34m)\u001b[0m\u001b[0;34m:\u001b[0m\u001b[0;34m\u001b[0m\u001b[0;34m\u001b[0m\u001b[0m\n",
            "\u001b[0;32m/usr/local/lib/python3.7/dist-packages/torch/autograd/__init__.py\u001b[0m in \u001b[0;36mbackward\u001b[0;34m(tensors, grad_tensors, retain_graph, create_graph, grad_variables, inputs)\u001b[0m\n\u001b[1;32m    173\u001b[0m     Variable._execution_engine.run_backward(  # Calls into the C++ engine to run the backward pass\n\u001b[1;32m    174\u001b[0m         \u001b[0mtensors\u001b[0m\u001b[0;34m,\u001b[0m \u001b[0mgrad_tensors_\u001b[0m\u001b[0;34m,\u001b[0m \u001b[0mretain_graph\u001b[0m\u001b[0;34m,\u001b[0m \u001b[0mcreate_graph\u001b[0m\u001b[0;34m,\u001b[0m \u001b[0minputs\u001b[0m\u001b[0;34m,\u001b[0m\u001b[0;34m\u001b[0m\u001b[0;34m\u001b[0m\u001b[0m\n\u001b[0;32m--> 175\u001b[0;31m         allow_unreachable=True, accumulate_grad=True)  # Calls into the C++ engine to run the backward pass\n\u001b[0m\u001b[1;32m    176\u001b[0m \u001b[0;34m\u001b[0m\u001b[0m\n\u001b[1;32m    177\u001b[0m def grad(\n",
            "\u001b[0;31mKeyboardInterrupt\u001b[0m: "
          ]
        }
      ]
    },
    {
      "cell_type": "code",
      "source": [
        "import os\n",
        "path=\"/content/drive/MyDrive\"\n",
        "os.chdir(path)\n",
        "os.listdir(path)"
      ],
      "metadata": {
        "id": "2YVsC4xpkBHR",
        "outputId": "867f72f3-fcc0-4d78-9db6-72291bc6eee7",
        "colab": {
          "base_uri": "https://localhost:8080/"
        }
      },
      "execution_count": null,
      "outputs": [
        {
          "output_type": "execute_result",
          "data": {
            "text/plain": [
              "['Colab Notebooks',\n",
              " 'Untitled Folder',\n",
              " '.ipynb_checkpoints',\n",
              " 'deterministic-variational-inference-master',\n",
              " 'pytorch_ard-master',\n",
              " '__pycache__',\n",
              " 'DVI_BNN-main.zip',\n",
              " 'models.py']"
            ]
          },
          "metadata": {},
          "execution_count": 10
        }
      ]
    },
    {
      "cell_type": "code",
      "source": [
        "import models"
      ],
      "metadata": {
        "id": "7dOM2xbv5QkT"
      },
      "execution_count": null,
      "outputs": []
    },
    {
      "cell_type": "code",
      "source": [
        "import sys\n",
        "sys.path.append('../')\n",
        "from models import DenseModelARD\n",
        "from sklearn.datasets import load_boston\n",
        "from sklearn.model_selection import train_test_split\n",
        "import pandas as pd\n",
        "from torch import nn\n",
        "import torch.nn.functional as F\n",
        "import torch\n",
        "import numpy as np\n",
        "from torch_ard import get_ard_reg, get_dropped_params_ratio, ELBOLoss\n",
        "from tqdm import trange, tqdm\n",
        "\n",
        "df = pd.read_csv('/content/drive/MyDrive/Untitled Folder/3_256_datsets.csv')\n",
        "X, y = df.drop('pChemal', 1), df['pChemal']\n",
        "\n",
        "train_X, test_X, train_y, test_y = train_test_split(X, y, train_size=0.8)\n",
        "\n",
        "device = torch.device(\"cuda\" if torch.cuda.is_available() else \"cpu\")\n",
        "# device = torch.device('cpu')\n",
        "train_X, test_X, train_y, test_y = \\\n",
        "    [torch.from_numpy(np.array(x)).float().to(device)\n",
        "     for x in [train_X, test_X, train_y, test_y]]\n",
        "\n",
        "model = DenseModelARD(input_shape=train_X.shape[1], output_shape=1,\n",
        "                      activation=nn.functional.relu).to(device)\n",
        "opt = torch.optim.Adam(model.parameters(), lr=1e-2)\n",
        "scheduler = torch.optim.lr_scheduler.ReduceLROnPlateau(opt, 'min')\n",
        "criterion = ELBOLoss(model, F.mse_loss)#.to(device)\n",
        "\n",
        "n_epoches = 100000\n",
        "debug_frequency = 100\n",
        "\n",
        "def get_kl_weight(epoch): \n",
        "  return min(1, 2 * epoch / n_epoches)\n",
        "\n",
        "pbar = trange(n_epoches, leave=True, position=0)\n",
        "for epoch in pbar:\n",
        "    kl_weight = get_kl_weight(epoch)\n",
        "    opt.zero_grad()\n",
        "    preds = model(train_X).squeeze()\n",
        "    #opt.zero_grad()\n",
        "    loss = criterion(preds, train_y, 1, kl_weight)\n",
        "    loss.backward()\n",
        "    opt.step()\n",
        "    loss_train = float(\n",
        "        criterion(preds, train_y, 1, 0).detach().cpu().numpy())\n",
        "    preds = model(test_X).squeeze()\n",
        "    loss_test = float(\n",
        "        criterion(preds, test_y, 1, 0).detach().cpu().numpy())\n",
        "    pbar.set_description('MSE (train): %.3f\\tMSE (test): %.3f\\tReg: %.3f\\tDropout rate: %f%%' % (\n",
        "        loss_train, loss_test, get_ard_reg(model).item(), 100 * get_dropped_params_ratio(model)))\n",
        "    pbar.update()\n"
      ],
      "metadata": {
        "id": "H6Bc3kjyH8Mz",
        "outputId": "117c5847-2730-468b-d3a5-04acf0927985",
        "colab": {
          "base_uri": "https://localhost:8080/",
          "height": 411
        }
      },
      "execution_count": 16,
      "outputs": [
        {
          "output_type": "stream",
          "name": "stderr",
          "text": [
            "/usr/local/lib/python3.7/dist-packages/ipykernel_launcher.py:15: FutureWarning: In a future version of pandas all arguments of DataFrame.drop except for the argument 'labels' will be keyword-only\n",
            "  from ipykernel import kernelapp as app\n"
          ]
        },
        {
          "output_type": "error",
          "ename": "TypeError",
          "evalue": "ignored",
          "traceback": [
            "\u001b[0;31m---------------------------------------------------------------------------\u001b[0m",
            "\u001b[0;31mTypeError\u001b[0m                                 Traceback (most recent call last)",
            "\u001b[0;32m<ipython-input-16-0c277fa8d5ba>\u001b[0m in \u001b[0;36m<module>\u001b[0;34m()\u001b[0m\n\u001b[1;32m     23\u001b[0m \u001b[0;34m\u001b[0m\u001b[0m\n\u001b[1;32m     24\u001b[0m model = DenseModelARD(input_shape=train_X.shape[1], output_shape=1,\n\u001b[0;32m---> 25\u001b[0;31m                       activation=nn.functional.relu).to(device)\n\u001b[0m\u001b[1;32m     26\u001b[0m \u001b[0mopt\u001b[0m \u001b[0;34m=\u001b[0m \u001b[0mtorch\u001b[0m\u001b[0;34m.\u001b[0m\u001b[0moptim\u001b[0m\u001b[0;34m.\u001b[0m\u001b[0mAdam\u001b[0m\u001b[0;34m(\u001b[0m\u001b[0mmodel\u001b[0m\u001b[0;34m.\u001b[0m\u001b[0mparameters\u001b[0m\u001b[0;34m(\u001b[0m\u001b[0;34m)\u001b[0m\u001b[0;34m,\u001b[0m \u001b[0mlr\u001b[0m\u001b[0;34m=\u001b[0m\u001b[0;36m1e-2\u001b[0m\u001b[0;34m)\u001b[0m\u001b[0;34m\u001b[0m\u001b[0;34m\u001b[0m\u001b[0m\n\u001b[1;32m     27\u001b[0m \u001b[0mscheduler\u001b[0m \u001b[0;34m=\u001b[0m \u001b[0mtorch\u001b[0m\u001b[0;34m.\u001b[0m\u001b[0moptim\u001b[0m\u001b[0;34m.\u001b[0m\u001b[0mlr_scheduler\u001b[0m\u001b[0;34m.\u001b[0m\u001b[0mReduceLROnPlateau\u001b[0m\u001b[0;34m(\u001b[0m\u001b[0mopt\u001b[0m\u001b[0;34m,\u001b[0m \u001b[0;34m'min'\u001b[0m\u001b[0;34m)\u001b[0m\u001b[0;34m\u001b[0m\u001b[0;34m\u001b[0m\u001b[0m\n",
            "\u001b[0;32m/content/drive/MyDrive/models.py\u001b[0m in \u001b[0;36m__init__\u001b[0;34m(self, input_shape, output_shape, hidden_size, activation)\u001b[0m\n\u001b[1;32m      9\u001b[0m     \u001b[0;32mdef\u001b[0m \u001b[0m__init__\u001b[0m\u001b[0;34m(\u001b[0m\u001b[0mself\u001b[0m\u001b[0;34m,\u001b[0m \u001b[0minput_shape\u001b[0m\u001b[0;34m,\u001b[0m \u001b[0moutput_shape\u001b[0m\u001b[0;34m,\u001b[0m \u001b[0mhidden_size\u001b[0m\u001b[0;34m=\u001b[0m\u001b[0;36m150\u001b[0m\u001b[0;34m,\u001b[0m \u001b[0mactivation\u001b[0m\u001b[0;34m=\u001b[0m\u001b[0;32mNone\u001b[0m\u001b[0;34m)\u001b[0m\u001b[0;34m:\u001b[0m\u001b[0;34m\u001b[0m\u001b[0;34m\u001b[0m\u001b[0m\n\u001b[1;32m     10\u001b[0m         \u001b[0msuper\u001b[0m\u001b[0;34m(\u001b[0m\u001b[0mDenseModelARD\u001b[0m\u001b[0;34m,\u001b[0m \u001b[0mself\u001b[0m\u001b[0;34m)\u001b[0m\u001b[0;34m.\u001b[0m\u001b[0m__init__\u001b[0m\u001b[0;34m(\u001b[0m\u001b[0;34m)\u001b[0m\u001b[0;34m\u001b[0m\u001b[0;34m\u001b[0m\u001b[0m\n\u001b[0;32m---> 11\u001b[0;31m         \u001b[0mself\u001b[0m\u001b[0;34m.\u001b[0m\u001b[0ml1\u001b[0m \u001b[0;34m=\u001b[0m \u001b[0mnn_ard\u001b[0m\u001b[0;34m.\u001b[0m\u001b[0mLinearARD\u001b[0m\u001b[0;34m(\u001b[0m\u001b[0minput_shape\u001b[0m\u001b[0;34m,\u001b[0m \u001b[0mhidden_size\u001b[0m\u001b[0;34m)\u001b[0m\u001b[0;34m\u001b[0m\u001b[0;34m\u001b[0m\u001b[0m\n\u001b[0m\u001b[1;32m     12\u001b[0m         \u001b[0mself\u001b[0m\u001b[0;34m.\u001b[0m\u001b[0ml2\u001b[0m \u001b[0;34m=\u001b[0m \u001b[0mnn_ard\u001b[0m\u001b[0;34m.\u001b[0m\u001b[0mLinearARD\u001b[0m\u001b[0;34m(\u001b[0m\u001b[0mhidden_size\u001b[0m\u001b[0;34m,\u001b[0m \u001b[0moutput_shape\u001b[0m\u001b[0;34m)\u001b[0m\u001b[0;34m\u001b[0m\u001b[0;34m\u001b[0m\u001b[0m\n\u001b[1;32m     13\u001b[0m         \u001b[0mself\u001b[0m\u001b[0;34m.\u001b[0m\u001b[0mactivation\u001b[0m \u001b[0;34m=\u001b[0m \u001b[0mactivation\u001b[0m\u001b[0;34m\u001b[0m\u001b[0;34m\u001b[0m\u001b[0m\n",
            "\u001b[0;31mTypeError\u001b[0m: __init__() missing 1 required positional argument: 'bias'"
          ]
        }
      ]
    }
  ]
}